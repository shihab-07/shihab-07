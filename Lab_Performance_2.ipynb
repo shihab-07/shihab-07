{
  "nbformat": 4,
  "nbformat_minor": 0,
  "metadata": {
    "colab": {
      "name": "Lab_Performance_2.ipynb",
      "provenance": [],
      "collapsed_sections": [],
      "authorship_tag": "ABX9TyNBR20pjZEV3OJa4LFv23W3",
      "include_colab_link": true
    },
    "kernelspec": {
      "name": "python3",
      "display_name": "Python 3"
    },
    "language_info": {
      "name": "python"
    }
  },
  "cells": [
    {
      "cell_type": "markdown",
      "metadata": {
        "id": "view-in-github",
        "colab_type": "text"
      },
      "source": [
        "<a href=\"https://colab.research.google.com/github/shihab-07/shihab-07/blob/main/Lab_Performance_2.ipynb\" target=\"_parent\"><img src=\"https://colab.research.google.com/assets/colab-badge.svg\" alt=\"Open In Colab\"/></a>"
      ]
    },
    {
      "cell_type": "code",
      "execution_count": 1,
      "metadata": {
        "id": "5rXrCrMXS2Xv"
      },
      "outputs": [],
      "source": [
        "import pandas as pd\n",
        "import numpy as np\n",
        "import matplotlib.pyplot as plt"
      ]
    },
    {
      "cell_type": "code",
      "source": [
        "df=pd.read_csv(\"FuelConsumption.csv\")\n",
        "df"
      ],
      "metadata": {
        "colab": {
          "base_uri": "https://localhost:8080/",
          "height": 627
        },
        "id": "zRiw8--MV34b",
        "outputId": "fb05666e-4e69-4f36-d387-6827601cc0c1"
      },
      "execution_count": 4,
      "outputs": [
        {
          "output_type": "execute_result",
          "data": {
            "text/plain": [
              "      MODELYEAR   MAKE       MODEL    VEHICLECLASS  ENGINESIZE  CYLINDERS  \\\n",
              "0          2014  ACURA         ILX         COMPACT         2.0          4   \n",
              "1          2014  ACURA         ILX         COMPACT         2.4          4   \n",
              "2          2014  ACURA  ILX HYBRID         COMPACT         1.5          4   \n",
              "3          2014  ACURA     MDX 4WD     SUV - SMALL         3.5          6   \n",
              "4          2014  ACURA     RDX AWD     SUV - SMALL         3.5          6   \n",
              "...         ...    ...         ...             ...         ...        ...   \n",
              "1062       2014  VOLVO    XC60 AWD     SUV - SMALL         3.0          6   \n",
              "1063       2014  VOLVO    XC60 AWD     SUV - SMALL         3.2          6   \n",
              "1064       2014  VOLVO    XC70 AWD     SUV - SMALL         3.0          6   \n",
              "1065       2014  VOLVO    XC70 AWD     SUV - SMALL         3.2          6   \n",
              "1066       2014  VOLVO    XC90 AWD  SUV - STANDARD         3.2          6   \n",
              "\n",
              "     TRANSMISSION FUELTYPE  FUELCONSUMPTION_CITY  FUELCONSUMPTION_HWY  \\\n",
              "0             AS5        Z                   9.9                  6.7   \n",
              "1              M6        Z                  11.2                  7.7   \n",
              "2             AV7        Z                   6.0                  5.8   \n",
              "3             AS6        Z                  12.7                  9.1   \n",
              "4             AS6        Z                  12.1                  8.7   \n",
              "...           ...      ...                   ...                  ...   \n",
              "1062          AS6        X                  13.4                  9.8   \n",
              "1063          AS6        X                  13.2                  9.5   \n",
              "1064          AS6        X                  13.4                  9.8   \n",
              "1065          AS6        X                  12.9                  9.3   \n",
              "1066          AS6        X                  14.9                 10.2   \n",
              "\n",
              "      FUELCONSUMPTION_COMB  FUELCONSUMPTION_COMB_MPG  CO2EMISSIONS  \n",
              "0                      8.5                        33           196  \n",
              "1                      9.6                        29           221  \n",
              "2                      5.9                        48           136  \n",
              "3                     11.1                        25           255  \n",
              "4                     10.6                        27           244  \n",
              "...                    ...                       ...           ...  \n",
              "1062                  11.8                        24           271  \n",
              "1063                  11.5                        25           264  \n",
              "1064                  11.8                        24           271  \n",
              "1065                  11.3                        25           260  \n",
              "1066                  12.8                        22           294  \n",
              "\n",
              "[1067 rows x 13 columns]"
            ],
            "text/html": [
              "\n",
              "  <div id=\"df-3ed410f2-d9d5-4482-a548-25a1df077cab\">\n",
              "    <div class=\"colab-df-container\">\n",
              "      <div>\n",
              "<style scoped>\n",
              "    .dataframe tbody tr th:only-of-type {\n",
              "        vertical-align: middle;\n",
              "    }\n",
              "\n",
              "    .dataframe tbody tr th {\n",
              "        vertical-align: top;\n",
              "    }\n",
              "\n",
              "    .dataframe thead th {\n",
              "        text-align: right;\n",
              "    }\n",
              "</style>\n",
              "<table border=\"1\" class=\"dataframe\">\n",
              "  <thead>\n",
              "    <tr style=\"text-align: right;\">\n",
              "      <th></th>\n",
              "      <th>MODELYEAR</th>\n",
              "      <th>MAKE</th>\n",
              "      <th>MODEL</th>\n",
              "      <th>VEHICLECLASS</th>\n",
              "      <th>ENGINESIZE</th>\n",
              "      <th>CYLINDERS</th>\n",
              "      <th>TRANSMISSION</th>\n",
              "      <th>FUELTYPE</th>\n",
              "      <th>FUELCONSUMPTION_CITY</th>\n",
              "      <th>FUELCONSUMPTION_HWY</th>\n",
              "      <th>FUELCONSUMPTION_COMB</th>\n",
              "      <th>FUELCONSUMPTION_COMB_MPG</th>\n",
              "      <th>CO2EMISSIONS</th>\n",
              "    </tr>\n",
              "  </thead>\n",
              "  <tbody>\n",
              "    <tr>\n",
              "      <th>0</th>\n",
              "      <td>2014</td>\n",
              "      <td>ACURA</td>\n",
              "      <td>ILX</td>\n",
              "      <td>COMPACT</td>\n",
              "      <td>2.0</td>\n",
              "      <td>4</td>\n",
              "      <td>AS5</td>\n",
              "      <td>Z</td>\n",
              "      <td>9.9</td>\n",
              "      <td>6.7</td>\n",
              "      <td>8.5</td>\n",
              "      <td>33</td>\n",
              "      <td>196</td>\n",
              "    </tr>\n",
              "    <tr>\n",
              "      <th>1</th>\n",
              "      <td>2014</td>\n",
              "      <td>ACURA</td>\n",
              "      <td>ILX</td>\n",
              "      <td>COMPACT</td>\n",
              "      <td>2.4</td>\n",
              "      <td>4</td>\n",
              "      <td>M6</td>\n",
              "      <td>Z</td>\n",
              "      <td>11.2</td>\n",
              "      <td>7.7</td>\n",
              "      <td>9.6</td>\n",
              "      <td>29</td>\n",
              "      <td>221</td>\n",
              "    </tr>\n",
              "    <tr>\n",
              "      <th>2</th>\n",
              "      <td>2014</td>\n",
              "      <td>ACURA</td>\n",
              "      <td>ILX HYBRID</td>\n",
              "      <td>COMPACT</td>\n",
              "      <td>1.5</td>\n",
              "      <td>4</td>\n",
              "      <td>AV7</td>\n",
              "      <td>Z</td>\n",
              "      <td>6.0</td>\n",
              "      <td>5.8</td>\n",
              "      <td>5.9</td>\n",
              "      <td>48</td>\n",
              "      <td>136</td>\n",
              "    </tr>\n",
              "    <tr>\n",
              "      <th>3</th>\n",
              "      <td>2014</td>\n",
              "      <td>ACURA</td>\n",
              "      <td>MDX 4WD</td>\n",
              "      <td>SUV - SMALL</td>\n",
              "      <td>3.5</td>\n",
              "      <td>6</td>\n",
              "      <td>AS6</td>\n",
              "      <td>Z</td>\n",
              "      <td>12.7</td>\n",
              "      <td>9.1</td>\n",
              "      <td>11.1</td>\n",
              "      <td>25</td>\n",
              "      <td>255</td>\n",
              "    </tr>\n",
              "    <tr>\n",
              "      <th>4</th>\n",
              "      <td>2014</td>\n",
              "      <td>ACURA</td>\n",
              "      <td>RDX AWD</td>\n",
              "      <td>SUV - SMALL</td>\n",
              "      <td>3.5</td>\n",
              "      <td>6</td>\n",
              "      <td>AS6</td>\n",
              "      <td>Z</td>\n",
              "      <td>12.1</td>\n",
              "      <td>8.7</td>\n",
              "      <td>10.6</td>\n",
              "      <td>27</td>\n",
              "      <td>244</td>\n",
              "    </tr>\n",
              "    <tr>\n",
              "      <th>...</th>\n",
              "      <td>...</td>\n",
              "      <td>...</td>\n",
              "      <td>...</td>\n",
              "      <td>...</td>\n",
              "      <td>...</td>\n",
              "      <td>...</td>\n",
              "      <td>...</td>\n",
              "      <td>...</td>\n",
              "      <td>...</td>\n",
              "      <td>...</td>\n",
              "      <td>...</td>\n",
              "      <td>...</td>\n",
              "      <td>...</td>\n",
              "    </tr>\n",
              "    <tr>\n",
              "      <th>1062</th>\n",
              "      <td>2014</td>\n",
              "      <td>VOLVO</td>\n",
              "      <td>XC60 AWD</td>\n",
              "      <td>SUV - SMALL</td>\n",
              "      <td>3.0</td>\n",
              "      <td>6</td>\n",
              "      <td>AS6</td>\n",
              "      <td>X</td>\n",
              "      <td>13.4</td>\n",
              "      <td>9.8</td>\n",
              "      <td>11.8</td>\n",
              "      <td>24</td>\n",
              "      <td>271</td>\n",
              "    </tr>\n",
              "    <tr>\n",
              "      <th>1063</th>\n",
              "      <td>2014</td>\n",
              "      <td>VOLVO</td>\n",
              "      <td>XC60 AWD</td>\n",
              "      <td>SUV - SMALL</td>\n",
              "      <td>3.2</td>\n",
              "      <td>6</td>\n",
              "      <td>AS6</td>\n",
              "      <td>X</td>\n",
              "      <td>13.2</td>\n",
              "      <td>9.5</td>\n",
              "      <td>11.5</td>\n",
              "      <td>25</td>\n",
              "      <td>264</td>\n",
              "    </tr>\n",
              "    <tr>\n",
              "      <th>1064</th>\n",
              "      <td>2014</td>\n",
              "      <td>VOLVO</td>\n",
              "      <td>XC70 AWD</td>\n",
              "      <td>SUV - SMALL</td>\n",
              "      <td>3.0</td>\n",
              "      <td>6</td>\n",
              "      <td>AS6</td>\n",
              "      <td>X</td>\n",
              "      <td>13.4</td>\n",
              "      <td>9.8</td>\n",
              "      <td>11.8</td>\n",
              "      <td>24</td>\n",
              "      <td>271</td>\n",
              "    </tr>\n",
              "    <tr>\n",
              "      <th>1065</th>\n",
              "      <td>2014</td>\n",
              "      <td>VOLVO</td>\n",
              "      <td>XC70 AWD</td>\n",
              "      <td>SUV - SMALL</td>\n",
              "      <td>3.2</td>\n",
              "      <td>6</td>\n",
              "      <td>AS6</td>\n",
              "      <td>X</td>\n",
              "      <td>12.9</td>\n",
              "      <td>9.3</td>\n",
              "      <td>11.3</td>\n",
              "      <td>25</td>\n",
              "      <td>260</td>\n",
              "    </tr>\n",
              "    <tr>\n",
              "      <th>1066</th>\n",
              "      <td>2014</td>\n",
              "      <td>VOLVO</td>\n",
              "      <td>XC90 AWD</td>\n",
              "      <td>SUV - STANDARD</td>\n",
              "      <td>3.2</td>\n",
              "      <td>6</td>\n",
              "      <td>AS6</td>\n",
              "      <td>X</td>\n",
              "      <td>14.9</td>\n",
              "      <td>10.2</td>\n",
              "      <td>12.8</td>\n",
              "      <td>22</td>\n",
              "      <td>294</td>\n",
              "    </tr>\n",
              "  </tbody>\n",
              "</table>\n",
              "<p>1067 rows × 13 columns</p>\n",
              "</div>\n",
              "      <button class=\"colab-df-convert\" onclick=\"convertToInteractive('df-3ed410f2-d9d5-4482-a548-25a1df077cab')\"\n",
              "              title=\"Convert this dataframe to an interactive table.\"\n",
              "              style=\"display:none;\">\n",
              "        \n",
              "  <svg xmlns=\"http://www.w3.org/2000/svg\" height=\"24px\"viewBox=\"0 0 24 24\"\n",
              "       width=\"24px\">\n",
              "    <path d=\"M0 0h24v24H0V0z\" fill=\"none\"/>\n",
              "    <path d=\"M18.56 5.44l.94 2.06.94-2.06 2.06-.94-2.06-.94-.94-2.06-.94 2.06-2.06.94zm-11 1L8.5 8.5l.94-2.06 2.06-.94-2.06-.94L8.5 2.5l-.94 2.06-2.06.94zm10 10l.94 2.06.94-2.06 2.06-.94-2.06-.94-.94-2.06-.94 2.06-2.06.94z\"/><path d=\"M17.41 7.96l-1.37-1.37c-.4-.4-.92-.59-1.43-.59-.52 0-1.04.2-1.43.59L10.3 9.45l-7.72 7.72c-.78.78-.78 2.05 0 2.83L4 21.41c.39.39.9.59 1.41.59.51 0 1.02-.2 1.41-.59l7.78-7.78 2.81-2.81c.8-.78.8-2.07 0-2.86zM5.41 20L4 18.59l7.72-7.72 1.47 1.35L5.41 20z\"/>\n",
              "  </svg>\n",
              "      </button>\n",
              "      \n",
              "  <style>\n",
              "    .colab-df-container {\n",
              "      display:flex;\n",
              "      flex-wrap:wrap;\n",
              "      gap: 12px;\n",
              "    }\n",
              "\n",
              "    .colab-df-convert {\n",
              "      background-color: #E8F0FE;\n",
              "      border: none;\n",
              "      border-radius: 50%;\n",
              "      cursor: pointer;\n",
              "      display: none;\n",
              "      fill: #1967D2;\n",
              "      height: 32px;\n",
              "      padding: 0 0 0 0;\n",
              "      width: 32px;\n",
              "    }\n",
              "\n",
              "    .colab-df-convert:hover {\n",
              "      background-color: #E2EBFA;\n",
              "      box-shadow: 0px 1px 2px rgba(60, 64, 67, 0.3), 0px 1px 3px 1px rgba(60, 64, 67, 0.15);\n",
              "      fill: #174EA6;\n",
              "    }\n",
              "\n",
              "    [theme=dark] .colab-df-convert {\n",
              "      background-color: #3B4455;\n",
              "      fill: #D2E3FC;\n",
              "    }\n",
              "\n",
              "    [theme=dark] .colab-df-convert:hover {\n",
              "      background-color: #434B5C;\n",
              "      box-shadow: 0px 1px 3px 1px rgba(0, 0, 0, 0.15);\n",
              "      filter: drop-shadow(0px 1px 2px rgba(0, 0, 0, 0.3));\n",
              "      fill: #FFFFFF;\n",
              "    }\n",
              "  </style>\n",
              "\n",
              "      <script>\n",
              "        const buttonEl =\n",
              "          document.querySelector('#df-3ed410f2-d9d5-4482-a548-25a1df077cab button.colab-df-convert');\n",
              "        buttonEl.style.display =\n",
              "          google.colab.kernel.accessAllowed ? 'block' : 'none';\n",
              "\n",
              "        async function convertToInteractive(key) {\n",
              "          const element = document.querySelector('#df-3ed410f2-d9d5-4482-a548-25a1df077cab');\n",
              "          const dataTable =\n",
              "            await google.colab.kernel.invokeFunction('convertToInteractive',\n",
              "                                                     [key], {});\n",
              "          if (!dataTable) return;\n",
              "\n",
              "          const docLinkHtml = 'Like what you see? Visit the ' +\n",
              "            '<a target=\"_blank\" href=https://colab.research.google.com/notebooks/data_table.ipynb>data table notebook</a>'\n",
              "            + ' to learn more about interactive tables.';\n",
              "          element.innerHTML = '';\n",
              "          dataTable['output_type'] = 'display_data';\n",
              "          await google.colab.output.renderOutput(dataTable, element);\n",
              "          const docLink = document.createElement('div');\n",
              "          docLink.innerHTML = docLinkHtml;\n",
              "          element.appendChild(docLink);\n",
              "        }\n",
              "      </script>\n",
              "    </div>\n",
              "  </div>\n",
              "  "
            ]
          },
          "metadata": {},
          "execution_count": 4
        }
      ]
    },
    {
      "cell_type": "code",
      "source": [
        "X=df[['ENGINESIZE']].values\n",
        "y=df['CO2EMISSIONS']"
      ],
      "metadata": {
        "id": "wL6As56Ha3Ra"
      },
      "execution_count": 5,
      "outputs": []
    },
    {
      "cell_type": "code",
      "source": [
        "plt.scatter(X,y,marker='+',color='red')\n",
        "plt.xlabel('ENGINESIZE')\n",
        "plt.ylabel('CO2EMISSIONS')\n",
        "plt.title('Prediction')"
      ],
      "metadata": {
        "colab": {
          "base_uri": "https://localhost:8080/",
          "height": 312
        },
        "id": "btHjp9nLa9jD",
        "outputId": "fb883420-514a-4104-9bb5-7b640c795d12"
      },
      "execution_count": 6,
      "outputs": [
        {
          "output_type": "execute_result",
          "data": {
            "text/plain": [
              "Text(0.5, 1.0, 'Prediction')"
            ]
          },
          "metadata": {},
          "execution_count": 6
        },
        {
          "output_type": "display_data",
          "data": {
            "text/plain": [
              "<Figure size 432x288 with 1 Axes>"
            ],
            "image/png": "[encoded data removed]"
          },
          "metadata": {
            "needs_background": "light"
          }
        }
      ]
    },
    {
      "cell_type": "code",
      "source": [
        "from sklearn.model_selection import train_test_split"
      ],
      "metadata": {
        "id": "cx7f-Uz2a-fl"
      },
      "execution_count": 8,
      "outputs": []
    },
    {
      "cell_type": "code",
      "source": [
        "X_train,X_test,y_train,y_test=train_test_split(X,y,test_size=.20,random_state=1)"
      ],
      "metadata": {
        "id": "a2hsRxZUbAkl"
      },
      "execution_count": 19,
      "outputs": []
    },
    {
      "cell_type": "code",
      "source": [
        "X_test"
      ],
      "metadata": {
        "colab": {
          "base_uri": "https://localhost:8080/"
        },
        "id": "kSk9a3b2bCIx",
        "outputId": "8c6a90e5-2ccc-4660-ca34-bb3b93cf4910"
      },
      "execution_count": 20,
      "outputs": [
        {
          "output_type": "execute_result",
          "data": {
            "text/plain": [
              "array([[3. ],\n",
              "       [1.4],\n",
              "       [2. ],\n",
              "       [2. ],\n",
              "       [4.6],\n",
              "       [3. ],\n",
              "       [2. ],\n",
              "       [1.8],\n",
              "       [3. ],\n",
              "       [2.4],\n",
              "       [2.4],\n",
              "       [3. ],\n",
              "       [2.4],\n",
              "       [5.2],\n",
              "       [2.5],\n",
              "       [2.5],\n",
              "       [1.6],\n",
              "       [4.4],\n",
              "       [3.5],\n",
              "       [2.4],\n",
              "       [6. ],\n",
              "       [2.5],\n",
              "       [3.7],\n",
              "       [3.5],\n",
              "       [3.7],\n",
              "       [3. ],\n",
              "       [1.2],\n",
              "       [5.5],\n",
              "       [1.6],\n",
              "       [2. ],\n",
              "       [3. ],\n",
              "       [5.2],\n",
              "       [3.5],\n",
              "       [5.3],\n",
              "       [4. ],\n",
              "       [5.3],\n",
              "       [6.2],\n",
              "       [1.5],\n",
              "       [4.2],\n",
              "       [3.3],\n",
              "       [3. ],\n",
              "       [6.3],\n",
              "       [2. ],\n",
              "       [3.6],\n",
              "       [3.7],\n",
              "       [2. ],\n",
              "       [1.4],\n",
              "       [1.4],\n",
              "       [2. ],\n",
              "       [3.4],\n",
              "       [1.6],\n",
              "       [5.7],\n",
              "       [4.3],\n",
              "       [6.2],\n",
              "       [2. ],\n",
              "       [3.7],\n",
              "       [2.5],\n",
              "       [5. ],\n",
              "       [3.7],\n",
              "       [1.6],\n",
              "       [2.4],\n",
              "       [2.7],\n",
              "       [2. ],\n",
              "       [2. ],\n",
              "       [2. ],\n",
              "       [1.8],\n",
              "       [3.7],\n",
              "       [3.6],\n",
              "       [2. ],\n",
              "       [1.6],\n",
              "       [2. ],\n",
              "       [2. ],\n",
              "       [3.6],\n",
              "       [3.5],\n",
              "       [5. ],\n",
              "       [6.2],\n",
              "       [2. ],\n",
              "       [6.2],\n",
              "       [2. ],\n",
              "       [3.7],\n",
              "       [6.2],\n",
              "       [1.4],\n",
              "       [5.7],\n",
              "       [5. ],\n",
              "       [2. ],\n",
              "       [6.2],\n",
              "       [3.8],\n",
              "       [3.5],\n",
              "       [2. ],\n",
              "       [3.6],\n",
              "       [5.3],\n",
              "       [4.4],\n",
              "       [2. ],\n",
              "       [3.5],\n",
              "       [2. ],\n",
              "       [2. ],\n",
              "       [5.3],\n",
              "       [6.7],\n",
              "       [2. ],\n",
              "       [4. ],\n",
              "       [2.4],\n",
              "       [6.2],\n",
              "       [2. ],\n",
              "       [3.5],\n",
              "       [1.6],\n",
              "       [4.4],\n",
              "       [1.8],\n",
              "       [5.3],\n",
              "       [1.8],\n",
              "       [2. ],\n",
              "       [2.4],\n",
              "       [6.2],\n",
              "       [5.5],\n",
              "       [4.4],\n",
              "       [5.3],\n",
              "       [3.5],\n",
              "       [2.5],\n",
              "       [2.5],\n",
              "       [5. ],\n",
              "       [2. ],\n",
              "       [3.8],\n",
              "       [4.3],\n",
              "       [2. ],\n",
              "       [3.7],\n",
              "       [2. ],\n",
              "       [2. ],\n",
              "       [5.7],\n",
              "       [5.7],\n",
              "       [4.7],\n",
              "       [2. ],\n",
              "       [2.4],\n",
              "       [1.6],\n",
              "       [3.6],\n",
              "       [3.6],\n",
              "       [5.3],\n",
              "       [4.7],\n",
              "       [5. ],\n",
              "       [1.6],\n",
              "       [5.3],\n",
              "       [2.4],\n",
              "       [1.4],\n",
              "       [2. ],\n",
              "       [2. ],\n",
              "       [1.2],\n",
              "       [4.7],\n",
              "       [2. ],\n",
              "       [5. ],\n",
              "       [5.4],\n",
              "       [5.3],\n",
              "       [3.6],\n",
              "       [2. ],\n",
              "       [3. ],\n",
              "       [5.9],\n",
              "       [5.6],\n",
              "       [3.5],\n",
              "       [2.5],\n",
              "       [3.5],\n",
              "       [6.2],\n",
              "       [1.8],\n",
              "       [2. ],\n",
              "       [1.6],\n",
              "       [3.6],\n",
              "       [4. ],\n",
              "       [1.4],\n",
              "       [3. ],\n",
              "       [5.7],\n",
              "       [2. ],\n",
              "       [3.5],\n",
              "       [5.7],\n",
              "       [3.5],\n",
              "       [3.7],\n",
              "       [4.7],\n",
              "       [4. ],\n",
              "       [1.6],\n",
              "       [5. ],\n",
              "       [3. ],\n",
              "       [6.2],\n",
              "       [3.4],\n",
              "       [1.5],\n",
              "       [6. ],\n",
              "       [4. ],\n",
              "       [5.3],\n",
              "       [3. ],\n",
              "       [1.4],\n",
              "       [3.5],\n",
              "       [3.5],\n",
              "       [2.4],\n",
              "       [3.5],\n",
              "       [3.5],\n",
              "       [1.4],\n",
              "       [2. ],\n",
              "       [1.6],\n",
              "       [2.4],\n",
              "       [6. ],\n",
              "       [4.4],\n",
              "       [3.6],\n",
              "       [3.5],\n",
              "       [3.4],\n",
              "       [5.7],\n",
              "       [4.4],\n",
              "       [3.5],\n",
              "       [3.8],\n",
              "       [3.5],\n",
              "       [3.6],\n",
              "       [3.6],\n",
              "       [2. ],\n",
              "       [1.6],\n",
              "       [3.8],\n",
              "       [2.4],\n",
              "       [3.6],\n",
              "       [1.6],\n",
              "       [3.8],\n",
              "       [3.7],\n",
              "       [2. ]])"
            ]
          },
          "metadata": {},
          "execution_count": 20
        }
      ]
    },
    {
      "cell_type": "code",
      "source": [
        "y_test"
      ],
      "metadata": {
        "colab": {
          "base_uri": "https://localhost:8080/"
        },
        "id": "-0qTNedZbECu",
        "outputId": "5f27c1aa-af9b-45ce-f704-5a9fc1bb8b1f"
      },
      "execution_count": 21,
      "outputs": [
        {
          "output_type": "execute_result",
          "data": {
            "text/plain": [
              "133    274\n",
              "340    200\n",
              "948    196\n",
              "704    161\n",
              "661    320\n",
              "      ... \n",
              "961    301\n",
              "523    184\n",
              "884    274\n",
              "8      267\n",
              "415    126\n",
              "Name: CO2EMISSIONS, Length: 214, dtype: int64"
            ]
          },
          "metadata": {},
          "execution_count": 21
        }
      ]
    },
    {
      "cell_type": "markdown",
      "source": [
        "# New Section"
      ],
      "metadata": {
        "id": "iQ-v1vcMcKmg"
      }
    },
    {
      "cell_type": "code",
      "source": [
        "from sklearn.linear_model import LinearRegression"
      ],
      "metadata": {
        "id": "ssKcsq5RbFz9"
      },
      "execution_count": 22,
      "outputs": []
    },
    {
      "cell_type": "code",
      "source": [
        "reg=LinearRegression()"
      ],
      "metadata": {
        "id": "IRrEP00mbHxx"
      },
      "execution_count": 23,
      "outputs": []
    },
    {
      "cell_type": "code",
      "source": [
        "reg.fit(X_train,y_train)"
      ],
      "metadata": {
        "colab": {
          "base_uri": "https://localhost:8080/"
        },
        "id": "cmpIR9vdbc7M",
        "outputId": "e7eb5526-ce35-4c4b-afb3-238bc5ced4bf"
      },
      "execution_count": 24,
      "outputs": [
        {
          "output_type": "execute_result",
          "data": {
            "text/plain": [
              "LinearRegression()"
            ]
          },
          "metadata": {},
          "execution_count": 24
        }
      ]
    },
    {
      "cell_type": "code",
      "source": [
        "plt.plot(df['ENGINESIZE'], reg.predict(df[['ENGINESIZE']]))"
      ],
      "metadata": {
        "colab": {
          "base_uri": "https://localhost:8080/",
          "height": 317
        },
        "id": "O6K_hMb6be6c",
        "outputId": "b00cd8d7-7f48-4d2d-f7d0-8db9583f6be3"
      },
      "execution_count": 25,
      "outputs": [
        {
          "output_type": "stream",
          "name": "stderr",
          "text": [
            "/usr/local/lib/python3.7/dist-packages/sklearn/base.py:444: UserWarning: X has feature names, but LinearRegression was fitted without feature names\n",
            "  f\"X has feature names, but {self.__class__.__name__} was fitted without\"\n"
          ]
        },
        {
          "output_type": "execute_result",
          "data": {
            "text/plain": [
              "[<matplotlib.lines.Line2D at 0x7f27ba361d90>]"
            ]
          },
          "metadata": {},
          "execution_count": 25
        },
        {
          "output_type": "display_data",
          "data": {
            "text/plain": [
              "<Figure size 432x288 with 1 Axes>"
            ],
            "image/png": "[encoded data removed]"
          },
          "metadata": {
            "needs_background": "light"
          }
        }
      ]
    },
    {
      "cell_type": "code",
      "source": [
        "reg.score(X_test,y_test)"
      ],
      "metadata": {
        "colab": {
          "base_uri": "https://localhost:8080/"
        },
        "id": "PVSu9JZtbg9A",
        "outputId": "186416dd-2e9f-4a11-a8c7-091a3e221a17"
      },
      "execution_count": 26,
      "outputs": [
        {
          "output_type": "execute_result",
          "data": {
            "text/plain": [
              "0.7644809223805962"
            ]
          },
          "metadata": {},
          "execution_count": 26
        }
      ]
    },
    {
      "cell_type": "code",
      "source": [
        "reg.intercept_"
      ],
      "metadata": {
        "colab": {
          "base_uri": "https://localhost:8080/"
        },
        "id": "bMJsp3zwbjDi",
        "outputId": "8126ef67-da75-4957-f879-b71bca8956e6"
      },
      "execution_count": 27,
      "outputs": [
        {
          "output_type": "execute_result",
          "data": {
            "text/plain": [
              "124.77059523158408"
            ]
          },
          "metadata": {},
          "execution_count": 27
        }
      ]
    },
    {
      "cell_type": "code",
      "source": [
        "reg.coef_"
      ],
      "metadata": {
        "colab": {
          "base_uri": "https://localhost:8080/"
        },
        "id": "_mHIaiIjbkw6",
        "outputId": "4e213382-db25-492f-b965-92f55a033be7"
      },
      "execution_count": 28,
      "outputs": [
        {
          "output_type": "execute_result",
          "data": {
            "text/plain": [
              "array([39.4153746])"
            ]
          },
          "metadata": {},
          "execution_count": 28
        }
      ]
    }
  ]
}